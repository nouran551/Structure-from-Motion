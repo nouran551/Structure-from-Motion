{
 "cells": [
  {
   "cell_type": "code",
   "execution_count": 5,
   "id": "960e1a31",
   "metadata": {},
   "outputs": [],
   "source": [
    "import cv2\n",
    "import numpy as np\n",
    "import matplotlib.pyplot as plt"
   ]
  },
  {
   "cell_type": "code",
   "execution_count": 6,
   "id": "a8816319",
   "metadata": {},
   "outputs": [],
   "source": [
    "matches = []\n",
    "gray_images = []"
   ]
  },
  {
   "cell_type": "code",
   "execution_count": 7,
   "id": "2ec9e89c",
   "metadata": {},
   "outputs": [],
   "source": [
    "def structure_from_motion(images, keypoints):\n",
    "    \n",
    "  # Convert the images to grayscale.\n",
    "  global gray_images\n",
    "  for image in images:\n",
    "    gray_images.append(cv2.cvtColor(image, cv2.COLOR_BGR2GRAY))\n",
    "\n",
    "  # Match the descriptors between each pair of images.\n",
    "  matcher = cv2.BFMatcher_create(cv2.NORM_L2)\n",
    "  matches12 = matcher.match(descriptors1, descriptors2)\n",
    "  matches13 = matcher.match(descriptors1, descriptors3)\n",
    "  matches14 = matcher.match(descriptors1, descriptors4)\n",
    "  matches23 = matcher.match(descriptors2, descriptors3)\n",
    "  matches24 = matcher.match(descriptors2, descriptors4)\n",
    "  matches34 = matcher.match(descriptors3, descriptors4)\n",
    "\n",
    "  # Add the matches to the global matches list.\n",
    "  matches.extend([matches12, matches13, matches14, matches23, matches24, matches34])\n",
    "\n",
    "  # Calculate the similarities between the images.\n",
    "  similarities = []\n",
    "  for i in range(len(images) - 1):\n",
    "    for j in range(i + 1, len(images)):\n",
    "      if len(matches[i]) > 0:\n",
    "        similarities.append(len(matches[i]) / len(keypoints[i]))\n",
    "      else:\n",
    "        similarities.append(0)\n",
    "\n",
    "  return similarities\n"
   ]
  },
  {
   "cell_type": "code",
   "execution_count": 8,
   "id": "03204191",
   "metadata": {},
   "outputs": [
    {
     "name": "stdout",
     "output_type": "stream",
     "text": [
      "[1.0, 1.0, 1.0, 1.8463068888336234, 1.8463068888336234, 1.18803008481357]\n"
     ]
    }
   ],
   "source": [
    "# Load the images.\n",
    "images = [cv2.imread(image_path) for image_path in [r\"D:\\GUC_research\\Test_SFM\\1.JPG\", r\"D:\\GUC_research\\Test_SFM\\2.JPG\", r\"D:\\GUC_research\\Test_SFM\\3.JPG\", r\"D:\\GUC_research\\Test_SFM\\4.JPG\"]]\n",
    "\n",
    "# Find the keypoints and descriptors in each image.\n",
    "keypoints1, descriptors1 = cv2.xfeatures2d.SIFT_create().detectAndCompute(images[0], None)\n",
    "keypoints2, descriptors2 = cv2.xfeatures2d.SIFT_create().detectAndCompute(images[1], None)\n",
    "keypoints3, descriptors3 = cv2.xfeatures2d.SIFT_create().detectAndCompute(images[2], None)\n",
    "keypoints4, descriptors4 = cv2.xfeatures2d.SIFT_create().detectAndCompute(images[3], None)\n",
    "\n",
    " # Apply structure from motion.\n",
    "similarities = structure_from_motion(images, [keypoints1, keypoints2, keypoints3, keypoints4])\n",
    "\n",
    "print(similarities)"
   ]
  },
  {
   "cell_type": "markdown",
   "id": "a8943dc7",
   "metadata": {},
   "source": [
    "### \n",
    "The output of the first code is a list of similarities between the four images. The similarities are calculated as the number of matches between the descriptors of each pair of images divided by the number of keypoints in the first image.\n",
    "\n",
    "In your case, the output of the code is [1.0, 1.0, 1.0, 1.8463068888336234, 1.8463068888336234, 1.18803008481357]. This means that the similarities between the first and second images, the first and third images, and the first and fourth images are all 1.0. This means that there are as many matches between the descriptors of the two images as there are keypoints in the first image.\n",
    "\n",
    "The similarities between the second and third images, and the second and fourth images are both 1.8463068888336234. This means that there are more matches between the descriptors of the two images than there are keypoints in the first image.\n",
    "\n",
    "The similarity between the third and fourth images is 1.18803008481357. This means that there are fewer matches between the descriptors of the two images than there are keypoints in the first image.\n",
    "\n",
    "The interpretation of the output of the code depends on the context. In your case, the output of the code could mean that the first image is very similar to the second, third, and fourth images. However, the second and third images are more similar to each other than they are to the first and fourth images.\n",
    "\n",
    "\n",
    "\n"
   ]
  },
  {
   "cell_type": "code",
   "execution_count": 9,
   "id": "9d40dda4",
   "metadata": {},
   "outputs": [
    {
     "data": {
      "image/png": "[encoded data removed]",
      "text/plain": [
       "<Figure size 640x480 with 1 Axes>"
      ]
     },
     "metadata": {},
     "output_type": "display_data"
    }
   ],
   "source": [
    "import matplotlib.pyplot as plt\n",
    "\n",
    "# Create a line graph of the similarities.\n",
    "plt.plot(similarities)\n",
    "plt.xlabel(\"Image Number\")\n",
    "plt.ylabel(\"Similarity\")\n",
    "plt.title(\"Line Graph of Similarities\")\n",
    "plt.show()"
   ]
  },
  {
   "cell_type": "markdown",
   "id": "3c98c16a",
   "metadata": {},
   "source": [
    "The line graph of the similarities shows how the similarity between the images changes as the images are compared.\n",
    "\n",
    "In this case, the line graph would have four points, one for each pair of images. The y-axis of the graph would represent the similarity, and the x-axis would represent the image number.\n",
    "\n",
    "The first point on the graph would be the similarity between the first and second images. The second point would be the similarity between the first and third images. The third point would be the similarity between the first and fourth images. The fourth point would be the similarity between the second and third images.\n",
    "\n",
    "The height of each point on the graph would represent the similarity between the two images. The higher the point, the more similar the two images are.\n",
    "\n",
    "The slope of the line graph would represent the change in similarity between the images. If the slope is positive, then the similarity between the images is increasing. If the slope is negative, then the similarity between the images is decreasing.\n",
    "\n",
    "The interpretation of the line graph depends on the context. In your case, the line graph could mean that the similarity between the images is increasing as the images are compared. This could happen if the images are taken from the same scene at different times.\n",
    "\n",
    "Another interpretation of the line graph is that the similarity between the images is decreasing as the images are compared. This could happen if the images are taken from different scenes."
   ]
  },
  {
   "cell_type": "code",
   "execution_count": null,
   "id": "67947043",
   "metadata": {},
   "outputs": [],
   "source": []
  }
 ],
 "metadata": {
  "kernelspec": {
   "display_name": "Python 3 (ipykernel)",
   "language": "python",
   "name": "python3"
  },
  "language_info": {
   "codemirror_mode": {
    "name": "ipython",
    "version": 3
   },
   "file_extension": ".py",
   "mimetype": "text/x-python",
   "name": "python",
   "nbconvert_exporter": "python",
   "pygments_lexer": "ipython3",
   "version": "3.9.15"
  }
 },
 "nbformat": 4,
 "nbformat_minor": 5
}
